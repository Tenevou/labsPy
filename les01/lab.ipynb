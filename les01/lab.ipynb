{
  "cells": [
    {
      "cell_type": "markdown",
      "metadata": {
        "id": "6ij0WwsqHvef"
      },
      "source": [
        "# Лабораторная работа №1. Подготовка среды для анализа данных"
      ]
    },
    {
      "cell_type": "markdown",
      "metadata": {
        "id": "v1qSdottHveg"
      },
      "source": [
        "## Ход работы"
      ]
    },
    {
      "cell_type": "markdown",
      "metadata": {
        "id": "rHnv77L_Hveg"
      },
      "source": [
        "\n",
        "1. Создал учетную запись в сервисе GitHub\n",
        "2. Выполнил форк репозитория https://github.com/Nikita-Puzyrev/dap-2024\n",
        "3. Создал учетную запись в Google Colab\n",
        "4. Настроил интеграцию Google Colab и GitHub\n",
        "5. Создал в Google Colab отчет о выполненой работе в виде файла rep.ipynb. Использоовал Markdown разметку\n",
        "6. Сохраните отчет в ваш репозиторий github в директории ./les01\n",
        "7. Создал pull request в репозиторий https://github.com/Nikita-Puzyrev/dap-2024.\n",
        "8. Сдал работу в системе \"Пегас\", в отчет укажите ссылку на pull request\n",
        "\n",
        "https://cdn.prod.website-files.com/630ca238d7b194730630c5ee/66703e5d4f82cf35b254d456_Blog2%20(8).webp\n"
      ]
    }
  ],
  "metadata": {
    "language_info": {
      "name": "python"
    },
    "colab": {
      "provenance": []
    }
  },
  "nbformat": 4,
  "nbformat_minor": 0
}